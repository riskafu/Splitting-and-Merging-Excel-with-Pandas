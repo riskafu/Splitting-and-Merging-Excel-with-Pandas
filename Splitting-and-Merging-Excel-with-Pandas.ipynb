{
 "cells": [
  {
   "cell_type": "code",
   "execution_count": 12,
   "metadata": {},
   "outputs": [],
   "source": [
    "#Reading the dataset\n",
    "import pandas as pd\n",
    "data = 'data.xlsx'\n",
    "df = pd.read_excel(data)"
   ]
  },
  {
   "cell_type": "code",
   "execution_count": 13,
   "metadata": {},
   "outputs": [],
   "source": [
    "#Split the file based on value in column group\n",
    "split_values = df['group'].unique()\n",
    "for value in split_values:\n",
    "    df1 = df[df['group']==value]\n",
    "    output_file_name = str(value) + '.xlsx'\n",
    "    df1.to_excel(output_file_name, index = False)"
   ]
  },
  {
   "cell_type": "code",
   "execution_count": 18,
   "metadata": {},
   "outputs": [],
   "source": [
    "#Defining the folder where new workbook with merge worksheet will be placed\n",
    "from pathlib import Path\n",
    "import xlwings as xw\n",
    "SOURCE_DIR = 'Files'\n",
    "excel_files = list(Path(SOURCE_DIR).glob('*.xlsx'))"
   ]
  },
  {
   "cell_type": "code",
   "execution_count": 19,
   "metadata": {},
   "outputs": [
    {
     "ename": "NameError",
     "evalue": "name 'combined_wb_close' is not defined",
     "output_type": "error",
     "traceback": [
      "\u001b[1;31m---------------------------------------------------------------------------\u001b[0m",
      "\u001b[1;31mNameError\u001b[0m                                 Traceback (most recent call last)",
      "\u001b[1;32m<ipython-input-19-d2aeee595bf9>\u001b[0m in \u001b[0;36m<module>\u001b[1;34m\u001b[0m\n\u001b[0;32m     12\u001b[0m     \u001b[0mcombined_wb\u001b[0m\u001b[1;33m.\u001b[0m\u001b[0mapp\u001b[0m\u001b[1;33m.\u001b[0m\u001b[0mquit\u001b[0m\u001b[1;33m(\u001b[0m\u001b[1;33m)\u001b[0m\u001b[1;33m\u001b[0m\u001b[1;33m\u001b[0m\u001b[0m\n\u001b[0;32m     13\u001b[0m \u001b[1;32melse\u001b[0m\u001b[1;33m:\u001b[0m\u001b[1;33m\u001b[0m\u001b[1;33m\u001b[0m\u001b[0m\n\u001b[1;32m---> 14\u001b[1;33m     \u001b[0mcombined_wb_close\u001b[0m\u001b[1;33m(\u001b[0m\u001b[1;33m)\u001b[0m\u001b[1;33m\u001b[0m\u001b[1;33m\u001b[0m\u001b[0m\n\u001b[0m",
      "\u001b[1;31mNameError\u001b[0m: name 'combined_wb_close' is not defined"
     ]
    }
   ],
   "source": [
    "#Merging the worksheet from different files into one.\n",
    "combined_wb = xw.Book()\n",
    "for excel_file in excel_files:\n",
    "    wb = xw.Book(excel_file)\n",
    "    for sheet in wb.sheets:\n",
    "        sheet.api.Copy(After=combined_wb.sheets[0].api)\n",
    "    wb.close()\n",
    "    \n",
    "combined_wb.sheets[0].delete()\n",
    "combined_wb.save(f'data.xlsx')\n",
    "if len(combined_wb.app.books) == 1:\n",
    "    combined_wb.app.quit()\n",
    "else:\n",
    "    combined_wb_close()"
   ]
  }
 ],
 "metadata": {
  "kernelspec": {
   "display_name": "Python 3",
   "language": "python",
   "name": "python3"
  },
  "language_info": {
   "codemirror_mode": {
    "name": "ipython",
    "version": 3
   },
   "file_extension": ".py",
   "mimetype": "text/x-python",
   "name": "python",
   "nbconvert_exporter": "python",
   "pygments_lexer": "ipython3",
   "version": "3.8.5"
  }
 },
 "nbformat": 4,
 "nbformat_minor": 4
}
